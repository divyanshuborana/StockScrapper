{
 "cells": [
  {
   "cell_type": "code",
   "execution_count": 1,
   "id": "b4de4e81",
   "metadata": {},
   "outputs": [],
   "source": [
    "import requests\n",
    "from bs4 import BeautifulSoup"
   ]
  },
  {
   "cell_type": "code",
   "execution_count": 2,
   "id": "813170d9",
   "metadata": {},
   "outputs": [],
   "source": [
    "def getPrice(stock_symbol):\n",
    "    #getting url\n",
    "    \n",
    "    stock_url = \"https://cleartax.in/stocks/\"+ stock_symbol\n",
    "\n",
    "    #fetching data\n",
    "    responce = requests.get(stock_url)\n",
    "    soup = BeautifulSoup(responce.text, 'html.parser')\n",
    "\n",
    "    #extracting desired output\n",
    "    title = soup.find('title').text\n",
    "    splited_list = title.split(\"|\")\n",
    "    req_element = splited_list[1]\n",
    "    name_price_pair = req_element.split(\"-\")\n",
    "    price = name_price_pair[1].strip()\n",
    "    return price"
   ]
  },
  {
   "cell_type": "code",
   "execution_count": 3,
   "id": "3fa3c695",
   "metadata": {},
   "outputs": [
    {
     "name": "stdout",
     "output_type": "stream",
     "text": [
      "tata-motors-ltdis at price ₹573.05\n",
      "sbi-life-insurance-company-ltdis at price ₹1288.5\n",
      "jsw-steel-ltdis at price ₹762.75\n",
      "asian-paints-ltdis at price ₹3325.3\n"
     ]
    }
   ],
   "source": [
    "myStocks = {'tata-motors-ltd', 'asian-paints-ltd', 'jsw-steel-ltd', 'sbi-life-insurance-company-ltd'}\n",
    "for iter in myStocks:\n",
    "    print( iter + \"is at price \" + \"₹\" + getPrice(iter))"
   ]
  },
  {
   "cell_type": "code",
   "execution_count": null,
   "id": "3a7b9db5",
   "metadata": {},
   "outputs": [],
   "source": []
  }
 ],
 "metadata": {
  "kernelspec": {
   "display_name": "Python 3 (ipykernel)",
   "language": "python",
   "name": "python3"
  },
  "language_info": {
   "codemirror_mode": {
    "name": "ipython",
    "version": 3
   },
   "file_extension": ".py",
   "mimetype": "text/x-python",
   "name": "python",
   "nbconvert_exporter": "python",
   "pygments_lexer": "ipython3",
   "version": "3.10.6"
  }
 },
 "nbformat": 4,
 "nbformat_minor": 5
}
